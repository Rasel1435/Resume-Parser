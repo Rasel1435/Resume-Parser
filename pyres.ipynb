{
 "cells": [
  {
   "cell_type": "code",
   "execution_count": 8,
   "metadata": {},
   "outputs": [],
   "source": [
    "from pyresparser import ResumeParser\n",
    "import warnings\n",
    "warnings.filterwarnings(\"ignore\")"
   ]
  },
  {
   "cell_type": "code",
   "execution_count": 11,
   "metadata": {},
   "outputs": [],
   "source": [
    "data = ResumeParser(\n",
    "    './cvs/23a70903-c44a-4a9b-aebe-3a9717b32f9d.pdf'\n",
    ").get_extracted_data()"
   ]
  },
  {
   "cell_type": "code",
   "execution_count": 12,
   "metadata": {},
   "outputs": [
    {
     "data": {
      "text/plain": [
       "{'name': 'React JS',\n",
       " 'email': 'msobhani171134@bscse.uiu.ac.bd',\n",
       " 'mobile_number': '0152133330',\n",
       " 'skills': ['Technical skills',\n",
       "  'C++',\n",
       "  'C',\n",
       "  'Programming',\n",
       "  'Sql',\n",
       "  'Ui',\n",
       "  'C#',\n",
       "  'Database',\n",
       "  'Php',\n",
       "  'International',\n",
       "  'Word',\n",
       "  'Email',\n",
       "  'Communication',\n",
       "  'Algorithms',\n",
       "  'Keras',\n",
       "  'Technical',\n",
       "  'Mysql',\n",
       "  'Design',\n",
       "  'Css',\n",
       "  'Engineering',\n",
       "  'Training',\n",
       "  'Tensorflow',\n",
       "  'System',\n",
       "  'Java',\n",
       "  'Github',\n",
       "  'Javascript',\n",
       "  'Ux',\n",
       "  'Python',\n",
       "  'Html',\n",
       "  'Modeling',\n",
       "  'Js'],\n",
       " 'college_name': None,\n",
       " 'degree': None,\n",
       " 'designation': None,\n",
       " 'experience': ['Software Engineering Internship Program at',\n",
       "  'SocialCube Limited',\n",
       "  'September 2021 - November 2021, Mogbazar,',\n",
       "  'Dhaka.',\n",
       "  'Internship Trainee at SoftBD Limited',\n",
       "  'February 2022 - March 2022, New Eskaton Road,',\n",
       "  'Dhaka.',\n",
       "  \"Trainee at Bangladesh-Japan ICT Engineers'\",\n",
       "  'Training Program',\n",
       "  'April 2022 - October 2022.'],\n",
       " 'company_names': None,\n",
       " 'no_of_pages': 1,\n",
       " 'total_experience': 0.75}"
      ]
     },
     "execution_count": 12,
     "metadata": {},
     "output_type": "execute_result"
    }
   ],
   "source": [
    "data"
   ]
  },
  {
   "attachments": {},
   "cell_type": "markdown",
   "metadata": {},
   "source": [
    "- Note\n",
    "\n",
    "doesnt work as expected!"
   ]
  }
 ],
 "metadata": {
  "kernelspec": {
   "display_name": "pyres",
   "language": "python",
   "name": "python3"
  },
  "language_info": {
   "codemirror_mode": {
    "name": "ipython",
    "version": 3
   },
   "file_extension": ".py",
   "mimetype": "text/x-python",
   "name": "python",
   "nbconvert_exporter": "python",
   "pygments_lexer": "ipython3",
   "version": "3.7.15"
  },
  "orig_nbformat": 4,
  "vscode": {
   "interpreter": {
    "hash": "804d3ecff19c25977b8d91a9540a53a6f3d79017a30ee31d8f507fc7d1b782dd"
   }
  }
 },
 "nbformat": 4,
 "nbformat_minor": 2
}
